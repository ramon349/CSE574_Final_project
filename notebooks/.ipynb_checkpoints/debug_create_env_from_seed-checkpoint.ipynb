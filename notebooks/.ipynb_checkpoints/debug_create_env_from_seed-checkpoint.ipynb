{
 "cells": [
  {
   "cell_type": "code",
   "execution_count": 1,
   "id": "15aa25c4-8900-4373-a0c0-b76a6763a650",
   "metadata": {},
   "outputs": [
    {
     "name": "stderr",
     "output_type": "stream",
     "text": [
      "pybullet build time: May 20 2022 19:45:31\n"
     ]
    },
    {
     "name": "stdout",
     "output_type": "stream",
     "text": [
      "[INFO] 17 tasks loaded\n"
     ]
    }
   ],
   "source": [
    "import pandas as pd \n",
    "from glob import glob \n",
    "from vima_bench import *\n",
    "import matplotlib.pyplot as plt \n",
    "import numpy as np"
   ]
  },
  {
   "cell_type": "code",
   "execution_count": 2,
   "id": "86794a06-7bd2-4c09-9371-38ac428def18",
   "metadata": {},
   "outputs": [],
   "source": [
    "files = glob(\"/home/rlcorrea/vima_v6/rearrange_then_restore/*\")"
   ]
  },
  {
   "cell_type": "code",
   "execution_count": 3,
   "id": "b21fcdb9-7eab-469e-aeb1-0d0c96302a19",
   "metadata": {},
   "outputs": [
    {
     "name": "stderr",
     "output_type": "stream",
     "text": [
      "/home/rlcorrea/.conda/envs/my_vima/lib/python3.9/site-packages/tqdm/auto.py:21: TqdmWarning: IProgress not found. Please update jupyter and ipywidgets. See https://ipywidgets.readthedocs.io/en/stable/user_install.html\n",
      "  from .autonotebook import tqdm as notebook_tqdm\n"
     ]
    }
   ],
   "source": [
    "from vima.trajectory.trajectory_dataset import load_trajectory_info"
   ]
  },
  {
   "cell_type": "code",
   "execution_count": 4,
   "id": "cd60df10-d671-4c55-87ee-b718b10e69df",
   "metadata": {},
   "outputs": [],
   "source": [
    "out = load_trajectory_info(files[1])"
   ]
  },
  {
   "cell_type": "code",
   "execution_count": 5,
   "id": "8a91cdd0-2406-4bd7-b6d6-e812c1e5ec25",
   "metadata": {},
   "outputs": [
    {
     "name": "stderr",
     "output_type": "stream",
     "text": [
      "/home/rlcorrea/.conda/envs/my_vima/lib/python3.9/site-packages/gym/spaces/box.py:73: UserWarning: \u001b[33mWARN: Box bound precision lowered by casting to float32\u001b[0m\n",
      "  logger.warn(\n"
     ]
    }
   ],
   "source": [
    "env = make(\"rearrange\",\n",
    "                modalities=[\"segm\", \"rgb\"],\n",
    "                task_kwargs=PARTITION_TO_SPECS[\"test\"][\"placement_generalization\"][\"rearrange\"],\n",
    "                seed=17082,\n",
    "                render_prompt=False,display_debug_window=False,hide_arm_rgb=True,record_gui=False\n",
    "            )"
   ]
  },
  {
   "cell_type": "code",
   "execution_count": 6,
   "id": "ff46da82-ed77-4935-9e2e-147fe6514ee3",
   "metadata": {},
   "outputs": [
    {
     "name": "stdout",
     "output_type": "stream",
     "text": [
      "Warning: 1 repeated sampling random target of objects\n"
     ]
    }
   ],
   "source": [
    "obs = env.reset()"
   ]
  },
  {
   "cell_type": "code",
   "execution_count": 7,
   "id": "1629a339-549b-4c0c-8b9a-f8e247b7995a",
   "metadata": {},
   "outputs": [],
   "source": [
    "new_rgb = np.moveaxis(obs['rgb']['front'],[0],[2])"
   ]
  },
  {
   "cell_type": "code",
   "execution_count": 8,
   "id": "db74f48c-fdcf-4c44-ab2b-df354bc86840",
   "metadata": {},
   "outputs": [],
   "source": [
    "new_obs_rgb = out['obs']['rgb']['front'][0]\n",
    "new_obs_rgb = np.moveaxis(new_obs_rgb,[0],[2])"
   ]
  },
  {
   "cell_type": "code",
   "execution_count": 10,
   "id": "38be37fd-3bb1-4e51-8d52-ec71bb7718ba",
   "metadata": {},
   "outputs": [
    {
     "data": {
      "text/plain": [
       "(-0.5, 255.5, 127.5, -0.5)"
      ]
     },
     "execution_count": 10,
     "metadata": {},
     "output_type": "execute_result"
    },
    {
     "data": {
      "image/png": "[encoded data removed]",
      "text/plain": [
       "<Figure size 640x480 with 2 Axes>"
      ]
     },
     "metadata": {},
     "output_type": "display_data"
    }
   ],
   "source": [
    "plt.subplot(1,2,1)\n",
    "plt.imshow(new_rgb)\n",
    "plt.axis('off')\n",
    "plt.subplot(1,2,2)\n",
    "plt.imshow(new_obs_rgb)\n",
    "plt.axis(\"off\")"
   ]
  }
 ],
 "metadata": {
  "kernelspec": {
   "display_name": "my_vima",
   "language": "python",
   "name": "my_vima"
  },
  "language_info": {
   "codemirror_mode": {
    "name": "ipython",
    "version": 3
   },
   "file_extension": ".py",
   "mimetype": "text/x-python",
   "name": "python",
   "nbconvert_exporter": "python",
   "pygments_lexer": "ipython3",
   "version": "3.9.18"
  }
 },
 "nbformat": 4,
 "nbformat_minor": 5
}
