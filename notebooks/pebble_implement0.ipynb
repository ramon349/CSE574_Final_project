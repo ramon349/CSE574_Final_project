{
 "cells": [
  {
   "cell_type": "code",
   "execution_count": 1,
   "id": "9f5c0176-b1a7-470b-aae8-6f8595d20bb6",
   "metadata": {},
   "outputs": [
    {
     "name": "stderr",
     "output_type": "stream",
     "text": [
      "/home/rlcorrea/.conda/envs/my_vima/lib/python3.9/site-packages/tqdm/auto.py:21: TqdmWarning: IProgress not found. Please update jupyter and ipywidgets. See https://ipywidgets.readthedocs.io/en/stable/user_install.html\n",
      "  from .autonotebook import tqdm as notebook_tqdm\n",
      "pybullet build time: May 20 2022 19:45:31\n"
     ]
    },
    {
     "name": "stdout",
     "output_type": "stream",
     "text": [
      "[INFO] 17 tasks loaded\n"
     ]
    }
   ],
   "source": [
    "import os\n",
    "import pdb \n",
    "import numpy as np\n",
    "from einops import rearrange\n",
    "from vima.utils import *\n",
    "from vima_bench import *\n",
    "from vima_bench import make,PARTITION_TO_SPECS\n",
    "from vima import create_policy_from_ckpt\n",
    "os.environ[\"TOKENIZERS_PARALLELISM\"] = \"true\"\n",
    "from glob import glob \n",
    "import pickle as pkl \n",
    "from PIL import Image \n",
    "from vima.extra_utils import prepare_prompt,prepare_obs\n",
    "import torch \n",
    "from torch.optim import Adam \n",
    "from vima.policy.vima_policy  import VIMAPolicy \n",
    "from pathlib import Path \n",
    "from torch.utils.tensorboard import SummaryWriter\n",
    "from vima.trajectory.trajectory_dataset import TrajectoryLoader\n",
    "from collections import defaultdict\n",
    "import matplotlib.pyplot as plt\n",
    "from tokenizers import AddedToken\n",
    "from tokenizers import Tokenizer\n",
    "\n"
   ]
  },
  {
   "cell_type": "code",
   "execution_count": 18,
   "id": "896ae0be-1931-4068-8ac7-6fc1c5a4437a",
   "metadata": {},
   "outputs": [],
   "source": [
    "def viz_obs(obs_d,ax=None): \n",
    "    img_slice = np.moveaxis(obs_d['rgb']['front'],[0],[2])\n",
    "    if ax: \n",
    "        ax.imshow(img_slice)\n",
    "        ax.axis('off')\n",
    "    else: \n",
    "        plt.imshow(img_slice)\n",
    "        plt.axis('off')"
   ]
  },
  {
   "cell_type": "code",
   "execution_count": 7,
   "id": "8380aae4-034c-469a-9c74-a55485e35188",
   "metadata": {},
   "outputs": [],
   "source": [
    "device = 'cuda:0'\n",
    "vima_config = {'embed_dim': 256, 'xf_n_layers': 1, 'sattn_n_heads': 8, 'xattn_n_heads': 8}\n",
    "policy =  VIMAPolicy(**vima_config) \n",
    "weight_path = \"/home/rlcorrea/CSE574_project_vima/model_weights/2M.ckpt\"\n",
    "ckpt = torch.load(weight_path,map_location=device) \n",
    "#load the pretrained model except for the policy agents weight. The action prediction is handeled by the cross attention_gpt \n",
    "policy.load_state_dict({k.replace('policy.',\"\"):v for k,v in ckpt['state_dict'].items() if 'xattn_gpt' not in k},strict=False)\n",
    "policy = policy.train()"
   ]
  },
  {
   "cell_type": "code",
   "execution_count": 8,
   "id": "45c1c152-6995-470b-9f05-6d07de725e97",
   "metadata": {},
   "outputs": [],
   "source": [
    "for n,e in policy.named_parameters(): \n",
    "        e.requires_grad = False \n",
    "for n,e in policy.xattn_gpt.named_parameters(): \n",
    "        e.requires_grad = True \n",
    "policy = policy.to(device)"
   ]
  },
  {
   "cell_type": "code",
   "execution_count": 9,
   "id": "bbf33337-e74e-4150-96ac-08b38facb863",
   "metadata": {},
   "outputs": [
    {
     "name": "stderr",
     "output_type": "stream",
     "text": [
      "/home/rlcorrea/.conda/envs/my_vima/lib/python3.9/site-packages/gym/spaces/box.py:73: UserWarning: \u001b[33mWARN: Box bound precision lowered by casting to float32\u001b[0m\n",
      "  logger.warn(\n"
     ]
    }
   ],
   "source": [
    "env = make('rearrange',modalities=['segm','rgb'],task_kwargs=PARTITION_TO_SPECS[\"test\"]['placement_generalization']['rearrange'],seed=42,render_prompt=False,display_debug_window=False,hide_arm_rgb=False,record_gui=False)\n",
    "obs = env.reset() \n",
    "meta_info = env.meta_info \n",
    "meta_info = env.meta_info \n",
    "prompt = env.prompt \n",
    "prompt_assets = env.prompt_assets"
   ]
  },
  {
   "cell_type": "code",
   "execution_count": 10,
   "id": "17be6a65-c625-40b1-be88-c85176ff5cbf",
   "metadata": {},
   "outputs": [
    {
     "data": {
      "text/plain": [
       "dict_keys(['segm', 'rgb', 'ee'])"
      ]
     },
     "execution_count": 10,
     "metadata": {},
     "output_type": "execute_result"
    }
   ],
   "source": [
    "obs.keys()"
   ]
  },
  {
   "cell_type": "code",
   "execution_count": 11,
   "id": "6b01dcae-346a-4e74-9a9b-58f6fdca2676",
   "metadata": {},
   "outputs": [
    {
     "name": "stdout",
     "output_type": "stream",
     "text": [
      "text argument:/home/rlcorrea/CSE574_project_vima/VIMABench/vima_bench/tasks/assets\n",
      "int args: [text argument:/home/rlcorrea/CSE574_project_vima/VIMABench/vima_bench/tasks/assets\n",
      "int args: ["
     ]
    }
   ],
   "source": [
    "done = False\n",
    "infer_cache = {} \n",
    "infer_cache['obs_tokens'] = [] \n",
    "infer_cache['obs_masks'] = [] \n",
    "infer_cache['action_tokens'] =[] \n",
    "obs_list =list()\n",
    "obs_list.append(obs)\n",
    "for num_steps in range(20): \n",
    "    if num_steps ==0: \n",
    "         prompt_token_type, word_batch, image_batch = prepare_prompt(\n",
    "                        prompt=prompt, prompt_assets=prompt_assets, views=[\"front\", \"top\"]\n",
    "                    )\n",
    "    image_batch = image_batch.to_torch_tensor(device=device)\n",
    "    word_batch = word_batch.to(device) \n",
    "    prompt_tokens, prompt_masks = policy.forward_prompt_assembly(\n",
    "                (prompt_token_type, word_batch, image_batch)\n",
    "                )\n",
    "    obs = any_to_datadict(obs)\n",
    "    obs['ee']= np.array(obs['ee'])\n",
    "    input_d = {\n",
    "    'prompt_tokens':prompt_tokens,\n",
    "    'prompt_masks':prompt_masks,\n",
    "    'obs':obs}\n",
    "    out_actions = simple_forward(policy,input_d,infer_cache,meta_info,device)\n",
    "    obs, rew, done, info = env.step(out_actions)\n",
    "    obs_list.append(obs)\n",
    "    if done: \n",
    "        break \n"
   ]
  },
  {
   "cell_type": "code",
   "execution_count": 13,
   "id": "d0a12e4e-c6d3-43f0-9f79-4f408a0e54ae",
   "metadata": {},
   "outputs": [
    {
     "data": {
      "text/plain": [
       "21"
      ]
     },
     "execution_count": 13,
     "metadata": {},
     "output_type": "execute_result"
    }
   ],
   "source": [
    "len(obs_list)"
   ]
  },
  {
   "cell_type": "code",
   "execution_count": 19,
   "id": "f0da1224-bc24-42dd-82c7-4146bef83c0d",
   "metadata": {},
   "outputs": [
    {
     "data": {
      "image/png": "[encoded data removed]",
      "text/plain": [
       "<Figure size 1920x1440 with 21 Axes>"
      ]
     },
     "metadata": {},
     "output_type": "display_data"
    }
   ],
   "source": [
    "fig,ax = plt.subplots(7,3,dpi=300)\n",
    "ax = ax.flatten() \n",
    "for i,axis in enumerate(ax): \n",
    "    viz_obs(obs_list[i],axis)"
   ]
  },
  {
   "cell_type": "code",
   "execution_count": 24,
   "id": "4878519a-0e62-4f1a-815b-a1d6c0c66af1",
   "metadata": {},
   "outputs": [
    {
     "data": {
      "text/plain": [
       "(3, 128, 256)"
      ]
     },
     "execution_count": 24,
     "metadata": {},
     "output_type": "execute_result"
    }
   ],
   "source": [
    "obs_list[0]['rgb']['front'].shape"
   ]
  },
  {
   "cell_type": "code",
   "execution_count": 37,
   "id": "5fa2de9a-88b8-422d-8edb-fcdd4478f45f",
   "metadata": {},
   "outputs": [],
   "source": [
    "#def calculate_distances(obs_list): \n",
    "grey_screen = .vstack([e['rgb']['front'].flatten().reshape((1,-1)) for e in  obs_list])\n"
   ]
  },
  {
   "cell_type": "code",
   "execution_count": 39,
   "id": "8f7fb587-aef2-4bfe-93c0-88d5c24f6737",
   "metadata": {},
   "outputs": [
    {
     "data": {
      "text/plain": [
       "(21, 98304)"
      ]
     },
     "execution_count": 39,
     "metadata": {},
     "output_type": "execute_result"
    }
   ],
   "source": [
    "grey_screen.shape"
   ]
  },
  {
   "cell_type": "code",
   "execution_count": 42,
   "id": "1541fdc9-d757-420d-bc46-76448a234787",
   "metadata": {},
   "outputs": [
    {
     "ename": "TypeError",
     "evalue": "cdist(): argument 'x1' (position 1) must be Tensor, not numpy.ndarray",
     "output_type": "error",
     "traceback": [
      "\u001b[0;31m---------------------------------------------------------------------------\u001b[0m",
      "\u001b[0;31mTypeError\u001b[0m                                 Traceback (most recent call last)",
      "Cell \u001b[0;32mIn[42], line 1\u001b[0m\n\u001b[0;32m----> 1\u001b[0m \u001b[43mtorch\u001b[49m\u001b[38;5;241;43m.\u001b[39;49m\u001b[43mcdist\u001b[49m\u001b[43m(\u001b[49m\u001b[43mquery_vec\u001b[49m\u001b[43m,\u001b[49m\u001b[43mgrey_screen\u001b[49m\u001b[43m)\u001b[49m\n",
      "File \u001b[0;32m~/.conda/envs/my_vima/lib/python3.9/site-packages/torch/functional.py:1315\u001b[0m, in \u001b[0;36mcdist\u001b[0;34m(x1, x2, p, compute_mode)\u001b[0m\n\u001b[1;32m   1312\u001b[0m     \u001b[38;5;28;01mreturn\u001b[39;00m handle_torch_function(\n\u001b[1;32m   1313\u001b[0m         cdist, (x1, x2), x1, x2, p\u001b[38;5;241m=\u001b[39mp, compute_mode\u001b[38;5;241m=\u001b[39mcompute_mode)\n\u001b[1;32m   1314\u001b[0m \u001b[38;5;28;01mif\u001b[39;00m compute_mode \u001b[38;5;241m==\u001b[39m \u001b[38;5;124m'\u001b[39m\u001b[38;5;124muse_mm_for_euclid_dist_if_necessary\u001b[39m\u001b[38;5;124m'\u001b[39m:\n\u001b[0;32m-> 1315\u001b[0m     \u001b[38;5;28;01mreturn\u001b[39;00m \u001b[43m_VF\u001b[49m\u001b[38;5;241;43m.\u001b[39;49m\u001b[43mcdist\u001b[49m\u001b[43m(\u001b[49m\u001b[43mx1\u001b[49m\u001b[43m,\u001b[49m\u001b[43m \u001b[49m\u001b[43mx2\u001b[49m\u001b[43m,\u001b[49m\u001b[43m \u001b[49m\u001b[43mp\u001b[49m\u001b[43m,\u001b[49m\u001b[43m \u001b[49m\u001b[38;5;28;43;01mNone\u001b[39;49;00m\u001b[43m)\u001b[49m  \u001b[38;5;66;03m# type: ignore[attr-defined]\u001b[39;00m\n\u001b[1;32m   1316\u001b[0m \u001b[38;5;28;01melif\u001b[39;00m compute_mode \u001b[38;5;241m==\u001b[39m \u001b[38;5;124m'\u001b[39m\u001b[38;5;124muse_mm_for_euclid_dist\u001b[39m\u001b[38;5;124m'\u001b[39m:\n\u001b[1;32m   1317\u001b[0m     \u001b[38;5;28;01mreturn\u001b[39;00m _VF\u001b[38;5;241m.\u001b[39mcdist(x1, x2, p, \u001b[38;5;241m1\u001b[39m)  \u001b[38;5;66;03m# type: ignore[attr-defined]\u001b[39;00m\n",
      "\u001b[0;31mTypeError\u001b[0m: cdist(): argument 'x1' (position 1) must be Tensor, not numpy.ndarray"
     ]
    }
   ],
   "source": [
    "torch.cdist(query_vec,grey_screen)"
   ]
  },
  {
   "cell_type": "code",
   "execution_count": 41,
   "id": "feed600d-058c-4560-a358-cb6f3915f1fa",
   "metadata": {},
   "outputs": [],
   "source": [
    "query_vec = grey_screen[-1]\n"
   ]
  },
  {
   "cell_type": "code",
   "execution_count": null,
   "id": "818cd29f-ea3a-43fd-bac0-94de08e80f0f",
   "metadata": {},
   "outputs": [],
   "source": [
    "from scipy."
   ]
  },
  {
   "cell_type": "code",
   "execution_count": 5,
   "id": "c975f936-2b3c-4620-86dd-539037c55119",
   "metadata": {},
   "outputs": [],
   "source": [
    "def action_to_device(action,device= None): \n",
    "    for e in action.keys(): \n",
    "        action[e] = action[e].to(device)"
   ]
  },
  {
   "cell_type": "code",
   "execution_count": 6,
   "id": "14ceff0c-2c2b-4ae2-a718-c3ac0ccacc20",
   "metadata": {},
   "outputs": [],
   "source": [
    "def simple_forward(policy,inputs,inference_cache,meta_info,device):\n",
    "        #get the current observation  and preprocess it \n",
    "        obs= inputs['obs'] \n",
    "        c_step = len(inference_cache['obs_tokens'])\n",
    "        prompt_tokens = inputs['prompt_tokens']\n",
    "        prompt_masks = inputs['prompt_masks']\n",
    "        obs = inputs['obs']\n",
    "        obs = add_batch_dim(obs)\n",
    "        obs = prepare_obs(obs=obs, rgb_dict=None, meta=meta_info).to_torch_tensor(\n",
    "            device=device\n",
    "            )\n",
    "        ################# BEGIN COMPLICATED FORWARD STEP ###########\n",
    "        obs_token_this_step, obs_mask_this_step = policy.forward_obs_token(obs)\n",
    "        obs_token_this_step = obs_token_this_step.squeeze(0)\n",
    "        obs_mask_this_step = obs_mask_this_step.squeeze(0)\n",
    "        inference_cache[\"obs_tokens\"].append(obs_token_this_step[0])\n",
    "        inference_cache[\"obs_masks\"].append(obs_mask_this_step[0])\n",
    "        max_objs = max(x.shape[0] for x in inference_cache[\"obs_tokens\"])\n",
    "        obs_tokens_to_forward, obs_masks_to_forward = [], []\n",
    "        obs_tokens_this_env, obs_masks_this_env = [], []\n",
    "        for idx in range(len(inference_cache[\"obs_tokens\"])):\n",
    "            obs_this_env_this_step = inference_cache[\"obs_tokens\"][idx]\n",
    "            obs_mask_this_env_this_step = inference_cache[\"obs_masks\"][idx]\n",
    "            required_pad = max_objs - obs_this_env_this_step.shape[0]\n",
    "            obs_tokens_this_env.append(\n",
    "                any_concat(\n",
    "                    [\n",
    "                        obs_this_env_this_step,\n",
    "                        torch.zeros(\n",
    "                            required_pad,\n",
    "                            obs_this_env_this_step.shape[1],\n",
    "                            device=device,\n",
    "                            dtype=obs_this_env_this_step.dtype,\n",
    "                        ),\n",
    "                    ],\n",
    "                    dim=0,\n",
    "                )\n",
    "            )\n",
    "            obs_masks_this_env.append(\n",
    "                any_concat(\n",
    "                    [\n",
    "                        obs_mask_this_env_this_step,\n",
    "                        torch.zeros(\n",
    "                            required_pad,\n",
    "                            device=device,\n",
    "                            dtype=obs_mask_this_env_this_step.dtype,\n",
    "                        ),\n",
    "                    ],\n",
    "                    dim=0,\n",
    "                )\n",
    "            )\n",
    "        #stack the list \n",
    "        obs_tokens_to_forward.append(any_stack(obs_tokens_this_env, dim=0))\n",
    "        obs_masks_to_forward.append(any_stack(obs_masks_this_env, dim=0))\n",
    "        obs_tokens_to_forward = any_stack(obs_tokens_to_forward, dim=0)\n",
    "        obs_masks_to_forward = any_stack(obs_masks_to_forward, dim=0)\n",
    "        obs_tokens_to_forward = obs_tokens_to_forward.transpose(0, 1)\n",
    "        obs_masks_to_forward = obs_masks_to_forward.transpose(0, 1)\n",
    "        if c_step ==0: \n",
    "            action_tokens_to_forward = None\n",
    "        else:\n",
    "            action_tokens_to_forward = any_stack(\n",
    "                    [any_stack(inference_cache[\"action_tokens\"], dim=0)],\n",
    "                    dim=0,\n",
    "                )\n",
    "            action_tokens_to_forward = action_tokens_to_forward.transpose(0, 1)\n",
    "        ### END complicated forward step \n",
    "        #the models actions are provided as a single embedding \n",
    "        predicted_action_tokens = policy.forward(\n",
    "            obs_token=obs_tokens_to_forward,\n",
    "            action_token=action_tokens_to_forward,\n",
    "            prompt_token=prompt_tokens,\n",
    "            prompt_token_mask=prompt_masks,\n",
    "            obs_mask=obs_masks_to_forward,\n",
    "        )  # (L, B, E)\n",
    "        predicted_action_tokens = predicted_action_tokens[-1].unsqueeze(0)\n",
    "        # We discretize them into actual probabilities  of x,y,z placements \n",
    "        dist_dict = policy.forward_action_decoder(predicted_action_tokens)\n",
    "        actions = {k: v.mode() for k, v in dist_dict.items()}\n",
    "        action_tokens = policy.forward_action_token(actions)  # (1, B, E)\n",
    "        action_tokens = action_tokens.squeeze(0)\n",
    "        inference_cache[\"action_tokens\"].append(action_tokens[0])\n",
    "        actions = policy._de_discretize_actions(actions)\n",
    "        action_bounds = [meta_info[\"action_bounds\"]]\n",
    "        action_bounds_low = [action_bound[\"low\"] for action_bound in action_bounds]\n",
    "        action_bounds_high = [\n",
    "            action_bound[\"high\"] for action_bound in action_bounds\n",
    "        ]\n",
    "        action_bounds_low = np.asarray(action_bounds_low)\n",
    "        action_bounds_high = np.asarray(action_bounds_high)\n",
    "        action_bounds_low = torch.tensor(\n",
    "            action_bounds_low, dtype=torch.float32, device=device\n",
    "        )\n",
    "        action_bounds_high = torch.tensor(\n",
    "            action_bounds_high, dtype=torch.float32, device=device\n",
    "        )\n",
    "        actions[\"pose0_position\"] = (\n",
    "            actions[\"pose0_position\"] * (action_bounds_high - action_bounds_low)\n",
    "            + action_bounds_low\n",
    "        )\n",
    "        actions[\"pose1_position\"] = (\n",
    "            actions[\"pose1_position\"] * (action_bounds_high - action_bounds_low)\n",
    "            + action_bounds_low\n",
    "        )\n",
    "        actions[\"pose0_position\"] = torch.clamp(\n",
    "            actions[\"pose0_position\"], min=action_bounds_low, max=action_bounds_high\n",
    "        )\n",
    "        actions[\"pose1_position\"] = torch.clamp(\n",
    "            actions[\"pose1_position\"], min=action_bounds_low, max=action_bounds_high\n",
    "        )\n",
    "        actions[\"pose0_rotation\"] = actions[\"pose0_rotation\"] * 2 - 1\n",
    "        actions[\"pose1_rotation\"] = actions[\"pose1_rotation\"] * 2 - 1\n",
    "        actions[\"pose0_rotation\"] = torch.clamp(\n",
    "            actions[\"pose0_rotation\"], min=-1, max=1\n",
    "        )\n",
    "        actions[\"pose1_rotation\"] = torch.clamp(\n",
    "            actions[\"pose1_rotation\"], min=-1, max=1\n",
    "        )\n",
    "        actions = {k: v.cpu().numpy() for k, v in actions.items()}\n",
    "        actions = any_slice(actions, np.s_[0, 0])\n",
    "        return actions "
   ]
  },
  {
   "cell_type": "code",
   "execution_count": null,
   "id": "cfc99bd2-aa40-4958-98ba-e199b709df7c",
   "metadata": {},
   "outputs": [],
   "source": []
  }
 ],
 "metadata": {
  "kernelspec": {
   "display_name": "my_vima",
   "language": "python",
   "name": "my_vima"
  },
  "language_info": {
   "codemirror_mode": {
    "name": "ipython",
    "version": 3
   },
   "file_extension": ".py",
   "mimetype": "text/x-python",
   "name": "python",
   "nbconvert_exporter": "python",
   "pygments_lexer": "ipython3",
   "version": "3.9.18"
  }
 },
 "nbformat": 4,
 "nbformat_minor": 5
}
