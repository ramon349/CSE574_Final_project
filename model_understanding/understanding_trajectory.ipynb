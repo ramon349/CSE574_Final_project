{
 "cells": [
  {
   "cell_type": "code",
   "execution_count": null,
   "metadata": {},
   "outputs": [],
   "source": [
    "# The goal of this notebook is to understand how the  trajectory data is meant to be stored and processed \n",
    "\n",
    "from  vima.trajectory.trajectory_util import load_trajectory_info\n",
    "import matplotlib.pyplot as plt \n",
    "import numpy as np"
   ]
  },
  {
   "cell_type": "code",
   "execution_count": 6,
   "metadata": {},
   "outputs": [],
   "source": [
    "from glob import glob \n",
    "\n",
    "trajectories = glob(\"/scratch/rlcorrea/vima_v6/rearrange_then_restore/*\") "
   ]
  },
  {
   "cell_type": "markdown",
   "metadata": {},
   "source": [
    "# WHAT ARE THE TRAJECTORIES \n",
    "\n",
    "The authors of VIMA PROVIDED an oracle that is able to run all the possible tasks in the vima bench challenge. It is able to generate new permutations of the task by changing the color of objects, the orientation, initial placement etc. \n",
    "\n",
    "Each unique trajectory is a unique run of a task. For example. A task could be \"Rearange the  2 blocks present in the image\" \n",
    "\n",
    "We will have obs which is the rgb images representing the scenes taken \n",
    "action.pkl represets the actions taken by the model at each tiemstep \n",
    "trajectory.pkl contains useful metadata such as the  total number of steps to complete task, prompt assests and others.  \n",
    "\n",
    "We will now go over all of these. \n",
    "Bellow is what the file structure of 1 trajectory looks like"
   ]
  },
  {
   "cell_type": "code",
   "execution_count": 14,
   "metadata": {},
   "outputs": [
    {
     "data": {
      "text/plain": [
       "50079"
      ]
     },
     "execution_count": 14,
     "metadata": {},
     "output_type": "execute_result"
    }
   ],
   "source": [
    "len(trajectories)"
   ]
  },
  {
   "cell_type": "code",
   "execution_count": 15,
   "metadata": {},
   "outputs": [
    {
     "data": {
      "text/plain": [
       "'/scratch/rlcorrea/vima_v6/rearrange_then_restore/015059'"
      ]
     },
     "execution_count": 15,
     "metadata": {},
     "output_type": "execute_result"
    }
   ],
   "source": [
    "trajectories[0]"
   ]
  },
  {
   "cell_type": "code",
   "execution_count": 16,
   "metadata": {},
   "outputs": [
    {
     "data": {
      "text/plain": [
       "['/scratch/rlcorrea/vima_v6/rearrange_then_restore/015059/obs.pkl',\n",
       " '/scratch/rlcorrea/vima_v6/rearrange_then_restore/015059/rgb_top',\n",
       " '/scratch/rlcorrea/vima_v6/rearrange_then_restore/015059/action.pkl',\n",
       " '/scratch/rlcorrea/vima_v6/rearrange_then_restore/015059/trajectory.pkl',\n",
       " '/scratch/rlcorrea/vima_v6/rearrange_then_restore/015059/rgb_front']"
      ]
     },
     "execution_count": 16,
     "metadata": {},
     "output_type": "execute_result"
    }
   ],
   "source": [
    "glob(trajectories[0]+'/*')"
   ]
  },
  {
   "cell_type": "code",
   "execution_count": 19,
   "metadata": {},
   "outputs": [],
   "source": [
    "#helper function to load the scene data \n",
    "traj = load_trajectory_info(trajectories[0])"
   ]
  },
  {
   "cell_type": "code",
   "execution_count": 22,
   "metadata": {},
   "outputs": [
    {
     "data": {
      "text/plain": [
       "dict_keys(['prompt', 'prompt_assets', 'traj_meta', 'action', 'obs'])"
      ]
     },
     "execution_count": 22,
     "metadata": {},
     "output_type": "execute_result"
    }
   ],
   "source": [
    "traj.keys()"
   ]
  },
  {
   "cell_type": "code",
   "execution_count": 23,
   "metadata": {},
   "outputs": [
    {
     "data": {
      "text/plain": [
       "'Rearrange objects to this setup {scene} and then restore.'"
      ]
     },
     "execution_count": 23,
     "metadata": {},
     "output_type": "execute_result"
    }
   ],
   "source": [
    "traj['prompt']"
   ]
  },
  {
   "cell_type": "code",
   "execution_count": 27,
   "metadata": {},
   "outputs": [
    {
     "data": {
      "text/plain": [
       "dict_keys(['rgb', 'segm', 'placeholder_type'])"
      ]
     },
     "execution_count": 27,
     "metadata": {},
     "output_type": "execute_result"
    }
   ],
   "source": [
    "traj['prompt_assets']['scene'].keys()"
   ]
  },
  {
   "cell_type": "code",
   "execution_count": 48,
   "metadata": {},
   "outputs": [],
   "source": [
    "top_rgb_scene = traj['prompt_assets']['scene']['rgb']['top'] \n",
    "front_rgb_scene = traj['prompt_assets']['scene']['rgb']['front'] \n"
   ]
  },
  {
   "cell_type": "code",
   "execution_count": null,
   "metadata": {},
   "outputs": [
    {
     "data": {
      "text/plain": [
       "<matplotlib.image.AxesImage at 0x15546fcbd1f0>"
      ]
     },
     "execution_count": 47,
     "metadata": {},
     "output_type": "execute_result"
    },
    {
     "data": {
      "image/png": "[encoded data removed]",
      "text/plain": [
       "<Figure size 640x480 with 1 Axes>"
      ]
     },
     "metadata": {},
     "output_type": "display_data"
    }
   ],
   "source": [
    "plt.subplot(1,2,1)\n",
    "plt.imshow(top_rgb_scene.transpose(2,1,0))\n",
    "plt.imshow(front_rgb_scene.transpose(2,1,0))"
   ]
  },
  {
   "cell_type": "code",
   "execution_count": null,
   "metadata": {},
   "outputs": [],
   "source": [
    "rgb_scene.reshape()"
   ]
  },
  {
   "cell_type": "code",
   "execution_count": null,
   "metadata": {},
   "outputs": [],
   "source": []
  },
  {
   "cell_type": "code",
   "execution_count": null,
   "metadata": {},
   "outputs": [],
   "source": []
  }
 ],
 "metadata": {
  "kernelspec": {
   "display_name": "Python 3 (ipykernel)",
   "language": "python",
   "name": "python3"
  }
 },
 "nbformat": 4,
 "nbformat_minor": 2
}
